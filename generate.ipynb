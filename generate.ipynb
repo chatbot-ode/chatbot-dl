{
 "cells": [
  {
   "cell_type": "code",
   "execution_count": 8,
   "id": "ceb266a4",
   "metadata": {},
   "outputs": [
    {
     "name": "stderr",
     "output_type": "stream",
     "text": [
      "Some weights of the PyTorch model were not used when initializing the TF 2.0 model TFGPT2LMHeadModel: ['transformer.h.10.attn.masked_bias', 'transformer.h.9.attn.masked_bias', 'transformer.h.6.attn.masked_bias', 'transformer.h.5.attn.masked_bias', 'transformer.h.11.attn.masked_bias', 'transformer.h.1.attn.masked_bias', 'lm_head.weight', 'transformer.h.7.attn.masked_bias', 'transformer.h.8.attn.masked_bias', 'transformer.h.3.attn.masked_bias', 'transformer.h.4.attn.masked_bias', 'transformer.h.2.attn.masked_bias', 'transformer.h.0.attn.masked_bias']\n",
      "- This IS expected if you are initializing TFGPT2LMHeadModel from a PyTorch model trained on another task or with another architecture (e.g. initializing a TFBertForSequenceClassification model from a BertForPreTraining model).\n",
      "- This IS NOT expected if you are initializing TFGPT2LMHeadModel from a PyTorch model that you expect to be exactly identical (e.g. initializing a TFBertForSequenceClassification model from a BertForSequenceClassification model).\n",
      "All the weights of TFGPT2LMHeadModel were initialized from the PyTorch model.\n",
      "If your task is similar to the task the model of the checkpoint was trained on, you can already use TFGPT2LMHeadModel for predictions without further training.\n"
     ]
    }
   ],
   "source": [
    "import tensorflow as tf\n",
    "from transformers import AutoTokenizer\n",
    "from transformers import TFGPT2LMHeadModel\n",
    "\n",
    "# bos_token 등은 모델마다 달라서 아래와 같이 설정\n",
    "tokenizer = AutoTokenizer.from_pretrained('skt/kogpt2-base-v2',\n",
    "                                            bos_token='<s>',\n",
    "                                            eos_token='</s>',\n",
    "                                            pad_token='<pad>')\n",
    "model = TFGPT2LMHeadModel.from_pretrained('skt/kogpt2-base-v2', from_pt=True)\n",
    "# model.load_weights(\"chatbot.weights.h5\")"
   ]
  },
  {
   "cell_type": "code",
   "execution_count": null,
   "id": "f2175b0d",
   "metadata": {},
   "outputs": [
    {
     "data": {
      "text/plain": [
       "[0, 2, 14821, 8135, 15495, 14841, 7172, 406, 4]"
      ]
     },
     "execution_count": 9,
     "metadata": {},
     "output_type": "execute_result"
    }
   ],
   "source": [
    "# text = \"<s><usr>밥은 먹고 다니니?<sys>\"\n",
    "# input_ids = tokenizer.encode(text)\n",
    "# input_ids"
   ]
  },
  {
   "cell_type": "code",
   "execution_count": null,
   "id": "0922f6b5",
   "metadata": {},
   "outputs": [
    {
     "data": {
      "text/plain": [
       "'<s><usr> 밥은 먹고 다니니?<sys>\"\\n그러나 밥과 밥과 밥이 함께 있으면 서로 잘 어울리는 법이다.\\n밥과 밥이 함께 있어도 서로를 잘 안다고 할 수 없다.\\n밥과 밥을 함께 먹는 것이 두 사람 모두를 더 잘 대해 주는 것이다.\\n아무래도 서로가 서로에게 더 친숙하기 때문일 것이다.\\n그러나 밥과 밥은 다른 것이다.\\n서로에게 더 친숙한 것은 서로가 더 잘 대해 주었기 때문이며, 밥을 함께 먹는 것이 서로에게 더욱 깊은 친숙함을 주기 때문이다.\\n밥'"
      ]
     },
     "execution_count": 10,
     "metadata": {},
     "output_type": "execute_result"
    }
   ],
   "source": [
    "# input_ids = tf.convert_to_tensor([input_ids])\n",
    "# outputs = model.generate(input_ids, max_length=100, do_sample=True, top_k=20)\n",
    "# tokenizer.decode(outputs[0].numpy().tolist())"
   ]
  },
  {
   "cell_type": "code",
   "execution_count": null,
   "id": "6b154330",
   "metadata": {},
   "outputs": [],
   "source": [
    "def chatbot(user_text):\n",
    "    input_ids = tokenizer.encode(f\"<s><usr>{user_text}<sys>\")\n",
    "    input_ids = tf.convert_to_tensor([input_ids])\n",
    "    outputs = model.generate(input_ids, max_length=100, do_sample=True, top_k=100, top_p=0.9)\n",
    "    sentence = tokenizer.decode(outputs[0].numpy().tolist())\n",
    "    return sentence.split('<sys>')[1]"
   ]
  },
  {
   "cell_type": "code",
   "execution_count": 14,
   "id": "1b017cb6",
   "metadata": {},
   "outputs": [
    {
     "data": {
      "text/plain": [
       "'>\\n한때 가장 유명한 메뉴라고 하던,\\n초콜렛으로 만들어서 먹던 라이스 피자인데요.\\n오늘이 라이스 피자에선 왠지 알찬 느낌!\\n한상차림이 정말 맛있어요.\\n피자가 아닌 음료에 그런 라이스 피자도 있더라구요~\\n라이스 피자에선 정말 다양하게 즐길 수 있습니다!\\n저는 역시 맛있고,\\n크림 소스가 아주 좋아'"
      ]
     },
     "execution_count": 14,
     "metadata": {},
     "output_type": "execute_result"
    }
   ],
   "source": [
    "chatbot(\"오늘 저녁 메뉴 추천\")"
   ]
  }
 ],
 "metadata": {
  "kernelspec": {
   "display_name": ".venv",
   "language": "python",
   "name": "python3"
  },
  "language_info": {
   "codemirror_mode": {
    "name": "ipython",
    "version": 3
   },
   "file_extension": ".py",
   "mimetype": "text/x-python",
   "name": "python",
   "nbconvert_exporter": "python",
   "pygments_lexer": "ipython3",
   "version": "3.12.10"
  }
 },
 "nbformat": 4,
 "nbformat_minor": 5
}
